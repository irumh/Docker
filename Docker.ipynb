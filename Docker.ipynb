{
 "cells": [
  {
   "cell_type": "code",
   "execution_count": 4,
   "metadata": {},
   "outputs": [
    {
     "name": "stdout",
     "output_type": "stream",
     "text": [
      "Requirement already satisfied: psycopg2 in c:\\users\\stuti\\anaconda3\\lib\\site-packages (2.9.3)\n",
      "Requirement already satisfied: pprintpp in c:\\users\\stuti\\anaconda3\\lib\\site-packages (0.4.0)\n"
     ]
    }
   ],
   "source": [
    "!pip install psycopg2\n",
    "!pip install pprintpp"
   ]
  },
  {
   "cell_type": "code",
   "execution_count": 5,
   "metadata": {},
   "outputs": [],
   "source": [
    "import psycopg2  \n"
   ]
  },
  {
   "cell_type": "code",
   "execution_count": 6,
   "metadata": {},
   "outputs": [],
   "source": [
    "import pprint "
   ]
  },
  {
   "cell_type": "code",
   "execution_count": 9,
   "metadata": {},
   "outputs": [
    {
     "name": "stdout",
     "output_type": "stream",
     "text": [
      "1 Record inserted successfully\n",
      "Result  [(1, 'A', 'IT'), (2, 'B', 'IT'), (3, 'c', 'cs')]\n",
      "PostgreSQL connection is closed\n"
     ]
    }
   ],
   "source": [
    "try:\n",
    "    Conn = psycopg2.connect(host=\"localhost\",\n",
    "    database=\"test\",\n",
    "    user=\"postgres\",\n",
    "    password=\"password\")\n",
    "    cursor = Conn.cursor()\n",
    "    # Executing a SQL query to insert data into  table\n",
    "    insert_query = \"\"\"INSERT INTO EMPLOYEE(ID,NAME,DEPARTMENT) VALUES (3, 'c', 'cs')\"\"\"\n",
    "\n",
    "    cursor.execute(insert_query)\n",
    "    Conn.commit()\n",
    "    print(\"1 Record inserted successfully\")\n",
    "#Conn.close()\n",
    "# Fetch result\n",
    "    cursor.execute(\"SELECT * from EMPLOYEE\")\n",
    "    record = cursor.fetchall()\n",
    "    print(\"Result \", record)\n",
    "#update record\n",
    "    \n",
    "\n",
    "except (Exception, psycopg2.Error) as error:\n",
    "    print(\"Error while connecting to PostgreSQL\", error)\n",
    "finally:\n",
    "    if Conn:\n",
    "        cursor.close()\n",
    "        Conn.close()\n",
    "        print(\"PostgreSQL connection is closed\")\n",
    "#Conn.close()"
   ]
  },
  {
   "cell_type": "code",
   "execution_count": 12,
   "metadata": {},
   "outputs": [
    {
     "name": "stdout",
     "output_type": "stream",
     "text": [
      "1 Record inserted successfully\n",
      "Result  [('IT', 1), ('CS', 2)]\n",
      "PostgreSQL connection is closed\n"
     ]
    }
   ],
   "source": [
    "try:\n",
    "    Conn = psycopg2.connect(host=\"localhost\",\n",
    "    database=\"test\",\n",
    "    user=\"postgres\",\n",
    "    password=\"password\")\n",
    "    cursor = Conn.cursor()\n",
    "    # Executing a SQL query to insert data into  table\n",
    "    insert_query = \"\"\"INSERT INTO DEPT(DNAME,ID) VALUES ('CS', '2')\"\"\"\n",
    "\n",
    "    cursor.execute(insert_query)\n",
    "    Conn.commit()\n",
    "    print(\"1 Record inserted successfully\")\n",
    "#Conn.close()\n",
    "# Fetch result\n",
    "    cursor.execute(\"SELECT * from DEPT\")\n",
    "    record = cursor.fetchall()\n",
    "    print(\"Result \", record)\n",
    "#update record\n",
    "    \n",
    "\n",
    "except (Exception, psycopg2.Error) as error:\n",
    "    print(\"Error while connecting to PostgreSQL\", error)\n",
    "finally:\n",
    "    if Conn:\n",
    "        cursor.close()\n",
    "        Conn.close()\n",
    "        print(\"PostgreSQL connection is closed\")\n",
    "#Conn.close()"
   ]
  },
  {
   "cell_type": "code",
   "execution_count": null,
   "metadata": {},
   "outputs": [],
   "source": []
  }
 ],
 "metadata": {
  "kernelspec": {
   "display_name": "Python 3 (ipykernel)",
   "language": "python",
   "name": "python3"
  },
  "language_info": {
   "codemirror_mode": {
    "name": "ipython",
    "version": 3
   },
   "file_extension": ".py",
   "mimetype": "text/x-python",
   "name": "python",
   "nbconvert_exporter": "python",
   "pygments_lexer": "ipython3",
   "version": "3.9.7"
  }
 },
 "nbformat": 4,
 "nbformat_minor": 5
}
